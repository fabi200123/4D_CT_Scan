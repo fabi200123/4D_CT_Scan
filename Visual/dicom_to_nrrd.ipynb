{
 "cells": [
  {
   "attachments": {},
   "cell_type": "markdown",
   "metadata": {},
   "source": [
    "Importing modules:"
   ]
  },
  {
   "cell_type": "code",
   "execution_count": 1,
   "metadata": {},
   "outputs": [],
   "source": [
    "import os,sys\n",
    "from pmtool.ToolBox import ToolBox\n",
    "import pandas as pd\n",
    "from pandas import DataFrame\n",
    "import matplotlib.pyplot as plt\n",
    "import numpy as np\n",
    "import seaborn as sb\n",
    "\n",
    "%matplotlib inline"
   ]
  },
  {
   "attachments": {},
   "cell_type": "markdown",
   "metadata": {},
   "source": [
    "Setting the parameters:"
   ]
  },
  {
   "cell_type": "code",
   "execution_count": 3,
   "metadata": {},
   "outputs": [],
   "source": [
    "parameters = {'data_path': r'C:/Users/fabi2/OneDrive/Desktop/licenta/data/dcms/', # path to your DICOM data\n",
    "              'data_type': 'dcm', # original data format: DICOM\n",
    "              'multi_rts_per_pat': False}   # when False, it will look only for 1 rtstruct in the patient folder, \n",
    "                                            # this will speed up the process, \n",
    "                                            # if you have more then 1 rtstruct per patient, set it to True"
   ]
  },
  {
   "attachments": {},
   "cell_type": "markdown",
   "metadata": {},
   "source": [
    "# DICOM to NRRD conversion"
   ]
  },
  {
   "cell_type": "code",
   "execution_count": 4,
   "metadata": {},
   "outputs": [],
   "source": [
    "export_path =r'C:/Users/fabi2/OneDrive/Desktop/licenta/data/' # the function will create 'converted_nrrd' folder in the specified directory"
   ]
  },
  {
   "attachments": {},
   "cell_type": "markdown",
   "metadata": {},
   "source": [
    "\n",
    "Initialize the dataset (originally downloaded directory with DICOM files):"
   ]
  },
  {
   "cell_type": "code",
   "execution_count": 5,
   "metadata": {},
   "outputs": [
    {
     "name": "stderr",
     "output_type": "stream",
     "text": [
      "100%|██████████| 3/3 [00:01<00:00,  2.72it/s]\n"
     ]
    }
   ],
   "source": [
    "data_ct = ToolBox(**parameters)"
   ]
  },
  {
   "cell_type": "code",
   "execution_count": 6,
   "metadata": {},
   "outputs": [
    {
     "name": "stderr",
     "output_type": "stream",
     "text": [
      "Patients processed: 100%|██████████| 3/3 [00:03<00:00,  1.30s/it]\n"
     ]
    },
    {
     "data": {
      "text/html": [
       "<div>\n",
       "<style scoped>\n",
       "    .dataframe tbody tr th:only-of-type {\n",
       "        vertical-align: middle;\n",
       "    }\n",
       "\n",
       "    .dataframe tbody tr th {\n",
       "        vertical-align: top;\n",
       "    }\n",
       "\n",
       "    .dataframe thead th {\n",
       "        text-align: right;\n",
       "    }\n",
       "</style>\n",
       "<table border=\"1\" class=\"dataframe\">\n",
       "  <thead>\n",
       "    <tr style=\"text-align: right;\">\n",
       "      <th></th>\n",
       "      <th>Modality</th>\n",
       "      <th>SliceThickness</th>\n",
       "      <th>PixelSpacing</th>\n",
       "      <th>SeriesDate</th>\n",
       "      <th>Manufacturer</th>\n",
       "      <th>patient</th>\n",
       "      <th>slice#</th>\n",
       "    </tr>\n",
       "  </thead>\n",
       "  <tbody>\n",
       "    <tr>\n",
       "      <th>0</th>\n",
       "      <td>CT</td>\n",
       "      <td>3.0</td>\n",
       "      <td>[0.9765625, 0.9765625]</td>\n",
       "      <td>20180209</td>\n",
       "      <td>SIEMENS</td>\n",
       "      <td>LUNG1-001_20180209_CT_2</td>\n",
       "      <td>0</td>\n",
       "    </tr>\n",
       "    <tr>\n",
       "      <th>1</th>\n",
       "      <td>CT</td>\n",
       "      <td>3.0</td>\n",
       "      <td>[0.9765625, 0.9765625]</td>\n",
       "      <td>20180209</td>\n",
       "      <td>SIEMENS</td>\n",
       "      <td>LUNG1-001_20180209_CT_2</td>\n",
       "      <td>1</td>\n",
       "    </tr>\n",
       "    <tr>\n",
       "      <th>2</th>\n",
       "      <td>CT</td>\n",
       "      <td>3.0</td>\n",
       "      <td>[0.9765625, 0.9765625]</td>\n",
       "      <td>20180209</td>\n",
       "      <td>SIEMENS</td>\n",
       "      <td>LUNG1-001_20180209_CT_2</td>\n",
       "      <td>2</td>\n",
       "    </tr>\n",
       "    <tr>\n",
       "      <th>3</th>\n",
       "      <td>CT</td>\n",
       "      <td>3.0</td>\n",
       "      <td>[0.9765625, 0.9765625]</td>\n",
       "      <td>20180209</td>\n",
       "      <td>SIEMENS</td>\n",
       "      <td>LUNG1-001_20180209_CT_2</td>\n",
       "      <td>3</td>\n",
       "    </tr>\n",
       "    <tr>\n",
       "      <th>4</th>\n",
       "      <td>CT</td>\n",
       "      <td>3.0</td>\n",
       "      <td>[0.9765625, 0.9765625]</td>\n",
       "      <td>20180209</td>\n",
       "      <td>SIEMENS</td>\n",
       "      <td>LUNG1-001_20180209_CT_2</td>\n",
       "      <td>4</td>\n",
       "    </tr>\n",
       "    <tr>\n",
       "      <th>5</th>\n",
       "      <td>CT</td>\n",
       "      <td>3.0</td>\n",
       "      <td>[0.9765625, 0.9765625]</td>\n",
       "      <td>20180209</td>\n",
       "      <td>SIEMENS</td>\n",
       "      <td>LUNG1-001_20180209_CT_2</td>\n",
       "      <td>5</td>\n",
       "    </tr>\n",
       "    <tr>\n",
       "      <th>6</th>\n",
       "      <td>CT</td>\n",
       "      <td>3.0</td>\n",
       "      <td>[0.9765625, 0.9765625]</td>\n",
       "      <td>20180209</td>\n",
       "      <td>SIEMENS</td>\n",
       "      <td>LUNG1-001_20180209_CT_2</td>\n",
       "      <td>6</td>\n",
       "    </tr>\n",
       "    <tr>\n",
       "      <th>7</th>\n",
       "      <td>CT</td>\n",
       "      <td>3.0</td>\n",
       "      <td>[0.9765625, 0.9765625]</td>\n",
       "      <td>20180209</td>\n",
       "      <td>SIEMENS</td>\n",
       "      <td>LUNG1-001_20180209_CT_2</td>\n",
       "      <td>7</td>\n",
       "    </tr>\n",
       "    <tr>\n",
       "      <th>8</th>\n",
       "      <td>CT</td>\n",
       "      <td>3.0</td>\n",
       "      <td>[0.9765625, 0.9765625]</td>\n",
       "      <td>20180209</td>\n",
       "      <td>SIEMENS</td>\n",
       "      <td>LUNG1-001_20180209_CT_2</td>\n",
       "      <td>8</td>\n",
       "    </tr>\n",
       "    <tr>\n",
       "      <th>9</th>\n",
       "      <td>CT</td>\n",
       "      <td>3.0</td>\n",
       "      <td>[0.9765625, 0.9765625]</td>\n",
       "      <td>20180209</td>\n",
       "      <td>SIEMENS</td>\n",
       "      <td>LUNG1-001_20180209_CT_2</td>\n",
       "      <td>9</td>\n",
       "    </tr>\n",
       "  </tbody>\n",
       "</table>\n",
       "</div>"
      ],
      "text/plain": [
       "  Modality  SliceThickness            PixelSpacing SeriesDate Manufacturer  \\\n",
       "0       CT             3.0  [0.9765625, 0.9765625]   20180209      SIEMENS   \n",
       "1       CT             3.0  [0.9765625, 0.9765625]   20180209      SIEMENS   \n",
       "2       CT             3.0  [0.9765625, 0.9765625]   20180209      SIEMENS   \n",
       "3       CT             3.0  [0.9765625, 0.9765625]   20180209      SIEMENS   \n",
       "4       CT             3.0  [0.9765625, 0.9765625]   20180209      SIEMENS   \n",
       "5       CT             3.0  [0.9765625, 0.9765625]   20180209      SIEMENS   \n",
       "6       CT             3.0  [0.9765625, 0.9765625]   20180209      SIEMENS   \n",
       "7       CT             3.0  [0.9765625, 0.9765625]   20180209      SIEMENS   \n",
       "8       CT             3.0  [0.9765625, 0.9765625]   20180209      SIEMENS   \n",
       "9       CT             3.0  [0.9765625, 0.9765625]   20180209      SIEMENS   \n",
       "\n",
       "                   patient slice#  \n",
       "0  LUNG1-001_20180209_CT_2      0  \n",
       "1  LUNG1-001_20180209_CT_2      1  \n",
       "2  LUNG1-001_20180209_CT_2      2  \n",
       "3  LUNG1-001_20180209_CT_2      3  \n",
       "4  LUNG1-001_20180209_CT_2      4  \n",
       "5  LUNG1-001_20180209_CT_2      5  \n",
       "6  LUNG1-001_20180209_CT_2      6  \n",
       "7  LUNG1-001_20180209_CT_2      7  \n",
       "8  LUNG1-001_20180209_CT_2      8  \n",
       "9  LUNG1-001_20180209_CT_2      9  "
      ]
     },
     "execution_count": 6,
     "metadata": {},
     "output_type": "execute_result"
    }
   ],
   "source": [
    "dataset_description = data_ct.get_dataset_description() \n",
    "dataset_description.head(10)"
   ]
  },
  {
   "attachments": {},
   "cell_type": "markdown",
   "metadata": {},
   "source": [
    "Run the conversion:"
   ]
  },
  {
   "cell_type": "code",
   "execution_count": 7,
   "metadata": {},
   "outputs": [
    {
     "name": "stderr",
     "output_type": "stream",
     "text": [
      "Patients converted: 100%|██████████| 3/3 [00:06<00:00,  2.02s/it]\n"
     ]
    }
   ],
   "source": [
    "data_ct.convert_to_nrrd(export_path, 'gtv')"
   ]
  },
  {
   "attachments": {},
   "cell_type": "markdown",
   "metadata": {},
   "source": [
    "# Quick check of the ROI's in the NRRD dataset\n",
    "\n",
    "If you want to check your converted images & ROIs, or just any volumetric dataset (NRRD/MHA), you can use get_jpegs function of the toolbox. It will generate JPEG images for each slice with the image and overlap of the contour.\n",
    "\n"
   ]
  },
  {
   "attachments": {},
   "cell_type": "markdown",
   "metadata": {},
   "source": [
    "Initialize the dataset (converted NRRD files):"
   ]
  },
  {
   "cell_type": "code",
   "execution_count": 8,
   "metadata": {},
   "outputs": [
    {
     "name": "stderr",
     "output_type": "stream",
     "text": [
      "100%|██████████| 3/3 [00:00<00:00, 2982.44it/s]\n"
     ]
    }
   ],
   "source": [
    "data_ct_nrrd = ToolBox(data_path = \"C:\\\\Users\\\\fabi2\\\\OneDrive\\\\Documents\\\\GitHub\\\\DuneAI-Automated-detection-and-segmentation-of-non-small-cell-lung-cancer-computed-tomography-images\\\\Automatic segmentation script\\\\produced segmentations\\\\\", data_type='nrrd')"
   ]
  },
  {
   "attachments": {},
   "cell_type": "markdown",
   "metadata": {},
   "source": [
    "Run the visualization:"
   ]
  },
  {
   "cell_type": "code",
   "execution_count": 9,
   "metadata": {},
   "outputs": [
    {
     "name": "stderr",
     "output_type": "stream",
     "text": [
      "Patients processed: 100%|██████████| 3/3 [00:17<00:00,  5.94s/it]\n"
     ]
    }
   ],
   "source": [
    "data_ct_nrrd.get_jpegs(r'../data/') # the function will create 'images_quick_check' folder in the specified directory "
   ]
  },
  {
   "attachments": {},
   "cell_type": "markdown",
   "metadata": {},
   "source": [
    "Let's check one of the patients:"
   ]
  },
  {
   "cell_type": "code",
   "execution_count": 11,
   "metadata": {},
   "outputs": [
    {
     "name": "stdout",
     "output_type": "stream",
     "text": [
      "pat2_(DL)_DL_mask\n"
     ]
    },
    {
     "data": {
      "application/vnd.jupyter.widget-view+json": {
       "model_id": "ae1b902fc6614feea526913880ce7061",
       "version_major": 2,
       "version_minor": 0
      },
      "text/plain": [
       "interactive(children=(IntSlider(value=1, description='i', max=2), Output()), _dom_classes=('widget-interact',)…"
      ]
     },
     "metadata": {},
     "output_type": "display_data"
    }
   ],
   "source": [
    "from ipywidgets import interact\n",
    "import numpy as np\n",
    "from PIL import Image\n",
    "\n",
    "def browse_images(images,names):\n",
    "    n = len(images)\n",
    "    def view_image(i):\n",
    "        plt.figure(figsize=(20,10))\n",
    "        plt.imshow(images[i])#, cmap=plt.cm.gray_r, interpolation='nearest')\n",
    "        plt.title('Slice: %s' % names[i])\n",
    "        plt.axis('off')\n",
    "        plt.show()\n",
    "    interact(view_image, i=(0,n-1))\n",
    "    \n",
    "for pat,_ in data_ct_nrrd:\n",
    "    _,file_struct = [*os.walk(os.path.join('../data/images_quick_check/',pat))]\n",
    "    root,images = file_struct[0],file_struct[2]\n",
    "    imgs =[np.array(Image.open(os.path.join(root,img))) for img in images]\n",
    "    print(pat)\n",
    "    browse_images(imgs,images)\n",
    "    break"
   ]
  }
 ],
 "metadata": {
  "kernelspec": {
   "display_name": "testenv",
   "language": "python",
   "name": "python3"
  },
  "language_info": {
   "codemirror_mode": {
    "name": "ipython",
    "version": 3
   },
   "file_extension": ".py",
   "mimetype": "text/x-python",
   "name": "python",
   "nbconvert_exporter": "python",
   "pygments_lexer": "ipython3",
   "version": "3.7.2"
  },
  "orig_nbformat": 4
 },
 "nbformat": 4,
 "nbformat_minor": 2
}
